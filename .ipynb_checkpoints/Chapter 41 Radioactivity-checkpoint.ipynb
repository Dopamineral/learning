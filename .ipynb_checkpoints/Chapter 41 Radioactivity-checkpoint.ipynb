{
 "cells": [
  {
   "cell_type": "markdown",
   "id": "6174a937-1e85-4424-b3d1-eb007b14cd2a",
   "metadata": {},
   "source": [
    "# Structure and properties of nucleus\n",
    "- protons and neutrons are in the core = **\"nucleons\"**\n",
    "- different cores = **\"nuclides\"**\n",
    "- Z = atom number, amount of protons\n",
    "- A = atom mass, protons + neutrons\n",
    "- Same protons but different mass (neutrons) - **\"isotopes\"**\n",
    "- **natural abundance** = percentage of isotopoes around. E.g. ${^{12}_{6}C}$ is 99% available and $^{13}_{6}C$ is only 1%\n",
    "- determining radius of a core is difficult because of wave-particle duality, but aproximations can be made\n",
    "- mass is expressed in unified mass unit `u`. Reference is ${^{12}_{6}C}$, which ways 12$u$\n",
    "- mass of atoms is often expressed in terms of energy: E=mc^2\n",
    "- electrons, protons and neutrons spin. The **spin-quantum number** `l` of a core is the vector sum of all spins.\n",
    "- Total core impuls moment is measured in **core magneton**\n"
   ]
  },
  {
   "cell_type": "code",
   "execution_count": 12,
   "id": "cf270ccb-c1c2-445c-a476-85e382e77846",
   "metadata": {},
   "outputs": [
    {
     "name": "stdout",
     "output_type": "stream",
     "text": [
      "biggest atom size / smallest atom size\n",
      "6.197154434741126\n"
     ]
    }
   ],
   "source": [
    "import numpy as np\n",
    "\n",
    "electron_mass = 9.1094*10**(-31)\n",
    "electron_charge = -1.6*10**(-19)\n",
    "proton_mass = 1.67262*10**(-27)\n",
    "proton_charge = 1.6*10**(-19)\n",
    "neutron_mass = 1.67493*10**(-27)\n",
    "neutron_charge = 0\n",
    "\n",
    "u_mass = 1.6605*10**(-27) #kg\n",
    "u_energy = 931*10**(6) #eV electronvolt\n",
    "\n",
    "def atom_core_size(atom_number):\n",
    "    \"\"\"calculate atom core radius aproximation\"\"\"\n",
    "    return 1.2*10**(-15)*(atom_number)**(1/3)\n",
    "\n",
    "print(\"biggest atom size / smallest atom size\")\n",
    "print(atom_core_size(238) / atom_core_size(1)) # the largest atom Uranium (238) is only about 6 times the radius of the smallest atom due to quadratic scaling effects.\n",
    "\n",
    "\n",
    "def core_impuls_moment(spin_number):\n",
    "    \n"
   ]
  },
  {
   "cell_type": "markdown",
   "id": "cb5ba518-70f3-4df0-adf5-9d94aa25b344",
   "metadata": {},
   "source": [
    "# Binding energy and nuclear forces"
   ]
  },
  {
   "cell_type": "markdown",
   "id": "1145019f-a0c8-43a3-ac71-057a2a2760bf",
   "metadata": {},
   "source": [
    "# Radioactivity"
   ]
  },
  {
   "cell_type": "markdown",
   "id": "86c7be3b-e953-49bd-8aa4-233ee732a0d0",
   "metadata": {},
   "source": [
    "# Alpha decay"
   ]
  },
  {
   "cell_type": "markdown",
   "id": "cf20a1c3-5313-4bfe-81f9-174a467c56df",
   "metadata": {},
   "source": [
    "# Beta decay"
   ]
  },
  {
   "cell_type": "markdown",
   "id": "2e55a35e-c75e-4df1-8463-1bf1a928f681",
   "metadata": {},
   "source": [
    "# Gamma decay"
   ]
  },
  {
   "cell_type": "markdown",
   "id": "04ee14fc-10b8-49ea-90c7-b48538ea7e4d",
   "metadata": {},
   "source": [
    "# Conservation of mass and other conservation laws"
   ]
  },
  {
   "cell_type": "markdown",
   "id": "29aae5e9-1ba1-47b2-99bb-ee9b061312d0",
   "metadata": {},
   "source": [
    "# Half life and decay speed"
   ]
  },
  {
   "cell_type": "markdown",
   "id": "fe4a1849-596c-4ed9-8cd5-7031bf622260",
   "metadata": {},
   "source": [
    "# Decay Series"
   ]
  },
  {
   "cell_type": "markdown",
   "id": "6543da0e-7de2-4384-9c3d-92a44d4081fd",
   "metadata": {},
   "source": [
    "# Radiometric Dating"
   ]
  },
  {
   "cell_type": "markdown",
   "id": "e2fae6bc-b207-4785-8c50-a32dd94c3b93",
   "metadata": {},
   "source": [
    "# Detecting Radiation"
   ]
  }
 ],
 "metadata": {
  "kernelspec": {
   "display_name": "Python 3 (ipykernel)",
   "language": "python",
   "name": "python3"
  },
  "language_info": {
   "codemirror_mode": {
    "name": "ipython",
    "version": 3
   },
   "file_extension": ".py",
   "mimetype": "text/x-python",
   "name": "python",
   "nbconvert_exporter": "python",
   "pygments_lexer": "ipython3",
   "version": "3.8.13"
  }
 },
 "nbformat": 4,
 "nbformat_minor": 5
}
