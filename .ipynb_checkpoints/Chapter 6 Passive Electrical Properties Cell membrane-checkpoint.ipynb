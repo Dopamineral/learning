{
 "cells": [
  {
   "cell_type": "markdown",
   "id": "4960081d-bd94-444b-ae51-0b84d9b50557",
   "metadata": {},
   "source": [
    "# Passive Electrical properties of membranes\n",
    "- passive electrical properties = properties that are fixed around resting membrane potential\n",
    "- Equivalent circuit has a resistor and capacitor in series, with battery in parallel\n",
    "- Resistor because current can flow\n",
    "- Capacitor because it can separate charges across an insulator"
   ]
  },
  {
   "cell_type": "markdown",
   "id": "1a736a7e-8f22-44b9-a175-e0e601f9b4a9",
   "metadata": {},
   "source": [
    "#Ohms law, resistance\n",
    "V = I*R\n",
    "i_k = gamma_k*(V_m - E_k) # ohms law for single channel \n",
    "g_Na = N0 * gamma_Na\n",
    "\n",
    "#Capacitance\n",
    "q = C_m * V_m # charge(coulombs) = Capacitance (Fahrad) * Potential difference (Volt)\n",
    "\n"
   ]
  },
  {
   "cell_type": "markdown",
   "id": "8d3b9a51-f787-4f1c-95c1-94c0418a9159",
   "metadata": {},
   "source": [
    "Membrane Change over time\n",
    "\n",
    "$\\large \\Delta V_m (t) = \\Delta V_{resting} (1- e^{\\frac{-t}{T_m}})$\n",
    "\n",
    "I guess you could write this as a differential equation no? \n",
    "\n",
    "$\\large \\frac{dV(t)}{dt} = (1- e^{\\frac{-t}{T_m}}) V dt$"
   ]
  },
  {
   "cell_type": "code",
   "execution_count": 1,
   "id": "4fa702c1-3a7d-410f-b27d-029a51a4dd9d",
   "metadata": {},
   "outputs": [
    {
     "data": {
      "text/latex": [
       "$\\displaystyle \\frac{d}{d t} V{\\left(t \\right)} = Vinf \\left(1 - e^{- \\frac{t}{Tm}}\\right)$"
      ],
      "text/plain": [
       "Eq(Derivative(V(t), t), Vinf*(1 - exp(-t/Tm)))"
      ]
     },
     "metadata": {},
     "output_type": "display_data"
    }
   ],
   "source": [
    "import sympy as sp\n",
    "\n",
    "t, Tm = sp.symbols(\"t, Tm\")\n",
    "V = sp.Function('V')(t)\n",
    "Vinf = sp.symbols('Vinf')\n",
    "dVdt = sp.diff(V,t)\n",
    "\n",
    "eq = sp.Eq(dVdt, (1-sp.exp(-t/Tm))*Vinf)\n",
    "display(eq)"
   ]
  },
  {
   "cell_type": "code",
   "execution_count": 2,
   "id": "b36f3d23-4fe7-4a08-8c6f-06f8bd453a82",
   "metadata": {},
   "outputs": [
    {
     "data": {
      "text/latex": [
       "$\\displaystyle V{\\left(t \\right)} = C_{1} + Vinf \\left(Tm e^{- \\frac{t}{Tm}} + t\\right)$"
      ],
      "text/plain": [
       "Eq(V(t), C1 + Vinf*(Tm*exp(-t/Tm) + t))"
      ]
     },
     "metadata": {},
     "output_type": "display_data"
    },
    {
     "data": {
      "text/latex": [
       "$\\displaystyle V{\\left(t \\right)} = C_{1} + Tm Vinf e^{- \\frac{t}{Tm}} + Vinf t$"
      ],
      "text/plain": [
       "Eq(V(t), C1 + Tm*Vinf*exp(-t/Tm) + Vinf*t)"
      ]
     },
     "metadata": {},
     "output_type": "display_data"
    },
    {
     "data": {
      "text/latex": [
       "$\\displaystyle C_{1} + Tm Vinf$"
      ],
      "text/plain": [
       "C1 + Tm*Vinf"
      ]
     },
     "metadata": {},
     "output_type": "display_data"
    },
    {
     "data": {
      "text/latex": [
       "$\\displaystyle V_{0} = C_{1} + Tm Vinf$"
      ],
      "text/plain": [
       "Eq(V0, C1 + Tm*Vinf)"
      ]
     },
     "metadata": {},
     "output_type": "display_data"
    },
    {
     "data": {
      "text/latex": [
       "$\\displaystyle C_{1}$"
      ],
      "text/plain": [
       "C1"
      ]
     },
     "metadata": {},
     "output_type": "display_data"
    }
   ],
   "source": [
    "sol = sp.dsolve(eq)\n",
    "display(sol)\n",
    "display(sol.simplify())\n",
    "\n",
    "t0 = sol.args[1].subs(t,0)\n",
    "display(t0)\n",
    "V0 = sp.symbols('V0')\n",
    "\n",
    "init_eq = sp.Eq(V0,t0)\n",
    "display(init_eq)\n",
    "C1 = t0.args[0]\n",
    "display(C1)"
   ]
  },
  {
   "cell_type": "code",
   "execution_count": 3,
   "id": "1357f6a5-0729-4987-8d49-681ec5d3b11d",
   "metadata": {},
   "outputs": [
    {
     "data": {
      "text/latex": [
       "$\\displaystyle - Tm Vinf + V_{0}$"
      ],
      "text/plain": [
       "-Tm*Vinf + V0"
      ]
     },
     "metadata": {},
     "output_type": "display_data"
    },
    {
     "data": {
      "text/latex": [
       "$\\displaystyle V{\\left(t \\right)} = - Tm Vinf + V_{0} + Vinf \\left(Tm e^{- \\frac{t}{Tm}} + t\\right)$"
      ],
      "text/plain": [
       "Eq(V(t), -Tm*Vinf + V0 + Vinf*(Tm*exp(-t/Tm) + t))"
      ]
     },
     "metadata": {},
     "output_type": "display_data"
    },
    {
     "name": "stdout",
     "output_type": "stream",
     "text": [
      "Eq(V(t), -Tm*Vinf + V0 + Vinf*(Tm*exp(-t/Tm) + t))\n"
     ]
    }
   ],
   "source": [
    "C1_sol = sp.solve(init_eq,C1)\n",
    "display(C1_sol[0])\n",
    "\n",
    "final_right = sol.args[1].subs(C1,C1_sol[0])\n",
    "final = sp.Eq(V,final_right)\n",
    "\n",
    "display(final)\n",
    "print(final)"
   ]
  },
  {
   "cell_type": "code",
   "execution_count": 4,
   "id": "5ff66fbe-79b7-4116-a9ad-ddf3e9534e96",
   "metadata": {},
   "outputs": [
    {
     "name": "stderr",
     "output_type": "stream",
     "text": [
      "\n",
      "Bad key text.latex.unicode in file /usr/local/KUL_apps/anaconda3/lib/python3.8/site-packages/matplotlib/mpl-data/stylelib/_classic_test.mplstyle, line 112 ('text.latex.unicode : False # use \"ucs\" and \"inputenc\" LaTeX packages for handling')\n",
      "You probably need to get an updated matplotlibrc file from\n",
      "https://github.com/matplotlib/matplotlib/blob/v3.3.4/matplotlibrc.template\n",
      "or from the matplotlib source distribution\n",
      "\n",
      "Bad key savefig.frameon in file /usr/local/KUL_apps/anaconda3/lib/python3.8/site-packages/matplotlib/mpl-data/stylelib/_classic_test.mplstyle, line 423 ('savefig.frameon : True')\n",
      "You probably need to get an updated matplotlibrc file from\n",
      "https://github.com/matplotlib/matplotlib/blob/v3.3.4/matplotlibrc.template\n",
      "or from the matplotlib source distribution\n",
      "\n",
      "Bad key pgf.debug in file /usr/local/KUL_apps/anaconda3/lib/python3.8/site-packages/matplotlib/mpl-data/stylelib/_classic_test.mplstyle, line 444 ('pgf.debug           : False')\n",
      "You probably need to get an updated matplotlibrc file from\n",
      "https://github.com/matplotlib/matplotlib/blob/v3.3.4/matplotlibrc.template\n",
      "or from the matplotlib source distribution\n",
      "\n",
      "Bad key verbose.level in file /usr/local/KUL_apps/anaconda3/lib/python3.8/site-packages/matplotlib/mpl-data/stylelib/_classic_test.mplstyle, line 475 ('verbose.level  : silent      # one of silent, helpful, debug, debug-annoying')\n",
      "You probably need to get an updated matplotlibrc file from\n",
      "https://github.com/matplotlib/matplotlib/blob/v3.3.4/matplotlibrc.template\n",
      "or from the matplotlib source distribution\n",
      "\n",
      "Bad key verbose.fileo in file /usr/local/KUL_apps/anaconda3/lib/python3.8/site-packages/matplotlib/mpl-data/stylelib/_classic_test.mplstyle, line 476 ('verbose.fileo  : sys.stdout  # a log filename, sys.stdout or sys.stderr')\n",
      "You probably need to get an updated matplotlibrc file from\n",
      "https://github.com/matplotlib/matplotlib/blob/v3.3.4/matplotlibrc.template\n",
      "or from the matplotlib source distribution\n",
      "In /usr/local/KUL_apps/anaconda3/lib/python3.8/site-packages/matplotlib/mpl-data/stylelib/_classic_test.mplstyle: \n",
      "The text.latex.preview rcparam was deprecated in Matplotlib 3.3 and will be removed two minor releases later.\n",
      "In /usr/local/KUL_apps/anaconda3/lib/python3.8/site-packages/matplotlib/mpl-data/stylelib/_classic_test.mplstyle: \n",
      "The mathtext.fallback_to_cm rcparam was deprecated in Matplotlib 3.3 and will be removed two minor releases later.\n",
      "In /usr/local/KUL_apps/anaconda3/lib/python3.8/site-packages/matplotlib/mpl-data/stylelib/_classic_test.mplstyle: Support for setting the 'mathtext.fallback_to_cm' rcParam is deprecated since 3.3 and will be removed two minor releases later; use 'mathtext.fallback : 'cm' instead.\n",
      "In /usr/local/KUL_apps/anaconda3/lib/python3.8/site-packages/matplotlib/mpl-data/stylelib/_classic_test.mplstyle: \n",
      "The validate_bool_maybe_none function was deprecated in Matplotlib 3.3 and will be removed two minor releases later.\n",
      "In /usr/local/KUL_apps/anaconda3/lib/python3.8/site-packages/matplotlib/mpl-data/stylelib/_classic_test.mplstyle: \n",
      "The savefig.jpeg_quality rcparam was deprecated in Matplotlib 3.3 and will be removed two minor releases later.\n",
      "In /usr/local/KUL_apps/anaconda3/lib/python3.8/site-packages/matplotlib/mpl-data/stylelib/_classic_test.mplstyle: \n",
      "The keymap.all_axes rcparam was deprecated in Matplotlib 3.3 and will be removed two minor releases later.\n",
      "In /usr/local/KUL_apps/anaconda3/lib/python3.8/site-packages/matplotlib/mpl-data/stylelib/_classic_test.mplstyle: \n",
      "The animation.avconv_path rcparam was deprecated in Matplotlib 3.3 and will be removed two minor releases later.\n",
      "In /usr/local/KUL_apps/anaconda3/lib/python3.8/site-packages/matplotlib/mpl-data/stylelib/_classic_test.mplstyle: \n",
      "The animation.avconv_args rcparam was deprecated in Matplotlib 3.3 and will be removed two minor releases later.\n"
     ]
    },
    {
     "data": {
      "text/plain": [
       "[<matplotlib.lines.Line2D at 0x7f598ab30640>]"
      ]
     },
     "execution_count": 4,
     "metadata": {},
     "output_type": "execute_result"
    },
    {
     "data": {
      "image/png": "[encoded data removed]",
      "text/plain": [
       "<Figure size 432x288 with 1 Axes>"
      ]
     },
     "metadata": {
      "needs_background": "light"
     },
     "output_type": "display_data"
    }
   ],
   "source": [
    "import numpy as np\n",
    "import matplotlib.pyplot as plt\n",
    "\n",
    "def membrane_change(t,V0,Vinf,Tm):\n",
    "    return  -Tm*Vinf + V0 + Vinf*(Tm*np.exp(-t/Tm) + t)\n",
    "\n",
    "t = np.linspace(1,10,100)\n",
    "V0 =2\n",
    "Tm = 10\n",
    "Vinf = 2\n",
    "\n",
    "plt.plot(t,membrane_change(t,V0,Vinf,Tm))"
   ]
  },
  {
   "cell_type": "code",
   "execution_count": 5,
   "id": "cc945aff-e085-4632-91f3-6e9089b9521e",
   "metadata": {},
   "outputs": [
    {
     "data": {
      "text/plain": [
       "[<matplotlib.lines.Line2D at 0x7f598aa95550>]"
      ]
     },
     "execution_count": 5,
     "metadata": {},
     "output_type": "execute_result"
    },
    {
     "data": {
      "image/png": "[encoded data removed]",
      "text/plain": [
       "<Figure size 432x288 with 1 Axes>"
      ]
     },
     "metadata": {
      "needs_background": "light"
     },
     "output_type": "display_data"
    }
   ],
   "source": [
    "#Something seems wrong, maybe the formula is simpler than thought?\n",
    "t = np.linspace(1,10,100)\n",
    "\n",
    "def delta_v(t,Tm,Vinf,V0):\n",
    "    return Vinf*(1-np.exp(-t/Tm))\n",
    "Tm = 2\n",
    "Vinf = -2\n",
    "\n",
    "plt.plot(t,delta_v(t,Tm,Vinf,V0))\n",
    "\n",
    "# This seems more like it, but there must be more\n"
   ]
  },
  {
   "cell_type": "markdown",
   "id": "e9f11796-2e5a-4905-8d67-d45a8eda7525",
   "metadata": {},
   "source": [
    "## Something isn't quite right, starting over again"
   ]
  },
  {
   "cell_type": "code",
   "execution_count": 6,
   "id": "c347d7ff-d6be-487d-b307-79c4cb2e1cab",
   "metadata": {},
   "outputs": [
    {
     "name": "stdout",
     "output_type": "stream",
     "text": [
      "t Tm V(t) Vinf\n"
     ]
    }
   ],
   "source": [
    "#start fresh\n",
    "t, Tm = sp.symbols(\"t, Tm\")\n",
    "V = sp.Function('V')(t)\n",
    "Vinf = sp.symbols('Vinf')\n",
    "print(t, Tm, V, Vinf)"
   ]
  },
  {
   "cell_type": "code",
   "execution_count": 7,
   "id": "e81f9a3d-9423-4aae-8be9-7345acc67512",
   "metadata": {},
   "outputs": [
    {
     "data": {
      "text/latex": [
       "$\\displaystyle V{\\left(t \\right)} = Vinf \\left(1 - e^{- \\frac{t}{Tm}}\\right)$"
      ],
      "text/plain": [
       "Eq(V(t), Vinf*(1 - exp(-t/Tm)))"
      ]
     },
     "metadata": {},
     "output_type": "display_data"
    }
   ],
   "source": [
    "#this is what the equaton should look like\n",
    "eq = sp.Eq(V, (1-sp.exp(-t/Tm))*Vinf)\n",
    "display(eq)"
   ]
  },
  {
   "cell_type": "code",
   "execution_count": 8,
   "id": "99245778-9d14-4411-9f67-e113d422058f",
   "metadata": {},
   "outputs": [
    {
     "data": {
      "text/latex": [
       "$\\displaystyle \\frac{Vinf e^{- \\frac{t}{Tm}}}{Tm}$"
      ],
      "text/plain": [
       "Vinf*exp(-t/Tm)/Tm"
      ]
     },
     "metadata": {},
     "output_type": "display_data"
    }
   ],
   "source": [
    "#differentiating the right terms\n",
    "right = eq.args[1]\n",
    "right_d = sp.diff(right,t)\n",
    "display(right_d)"
   ]
  },
  {
   "cell_type": "code",
   "execution_count": 9,
   "id": "d1ffb8b7-54fd-478f-b1cf-7c3ba4279a48",
   "metadata": {},
   "outputs": [
    {
     "data": {
      "text/latex": [
       "$\\displaystyle \\frac{d}{d t} V{\\left(t \\right)}$"
      ],
      "text/plain": [
       "Derivative(V(t), t)"
      ]
     },
     "metadata": {},
     "output_type": "display_data"
    }
   ],
   "source": [
    "#Differentiating the left terms\n",
    "left = eq.args[0]\n",
    "left_d = sp.diff(left,t)\n",
    "display(left_d)"
   ]
  },
  {
   "cell_type": "code",
   "execution_count": 10,
   "id": "7dafe996-f9db-41dd-88ed-bedafad286ea",
   "metadata": {},
   "outputs": [
    {
     "data": {
      "text/latex": [
       "$\\displaystyle V{\\left(t \\right)} = C_{1} - Vinf e^{- \\frac{t}{Tm}}$"
      ],
      "text/plain": [
       "Eq(V(t), C1 - Vinf*exp(-t/Tm))"
      ]
     },
     "metadata": {},
     "output_type": "display_data"
    }
   ],
   "source": [
    "#solving the differential equation\n",
    "eq = sp.Eq(left_d,right_d)\n",
    "sol = sp.dsolve(eq)\n",
    "display(sol)"
   ]
  },
  {
   "cell_type": "code",
   "execution_count": 11,
   "id": "da41e01d-30e3-4cc9-ab40-8ea9f9f578bd",
   "metadata": {},
   "outputs": [
    {
     "data": {
      "text/latex": [
       "$\\displaystyle V_{0} = C_{1} - Vinf$"
      ],
      "text/plain": [
       "Eq(V0, C1 - Vinf)"
      ]
     },
     "metadata": {},
     "output_type": "display_data"
    }
   ],
   "source": [
    "# setting up the t=0 condition\n",
    "t0 = sol.args[1].subs(t,0)\n",
    "V0 = sp.symbols('V0')\n",
    "eq_init = sp.Eq(V0,t0)\n",
    "display(eq_init)"
   ]
  },
  {
   "cell_type": "code",
   "execution_count": 12,
   "id": "fd9c4c1c-44f7-4884-bcd3-4b0a51c5b2cf",
   "metadata": {},
   "outputs": [
    {
     "data": {
      "text/latex": [
       "$\\displaystyle V_{0} + Vinf$"
      ],
      "text/plain": [
       "V0 + Vinf"
      ]
     },
     "execution_count": 12,
     "metadata": {},
     "output_type": "execute_result"
    }
   ],
   "source": [
    "#Isolate C1 and solve it symhbolically\n",
    "C1 = t0.args[0]\n",
    "\n",
    "C1_sol = sp.solve(eq_init,C1)\n",
    "C1_sol[0]"
   ]
  },
  {
   "cell_type": "code",
   "execution_count": 13,
   "id": "fab5d1dc-e11a-4adf-883b-517cfafa0745",
   "metadata": {},
   "outputs": [
    {
     "data": {
      "text/latex": [
       "$\\displaystyle V{\\left(t \\right)} = V_{0} + Vinf - Vinf e^{- \\frac{t}{Tm}}$"
      ],
      "text/plain": [
       "Eq(V(t), V0 + Vinf - Vinf*exp(-t/Tm))"
      ]
     },
     "metadata": {},
     "output_type": "display_data"
    },
    {
     "name": "stdout",
     "output_type": "stream",
     "text": [
      "copy paste the content of the final term into a function and add numpy stuff\n",
      "(V(t), V0 + Vinf - Vinf*exp(-t/Tm))\n"
     ]
    }
   ],
   "source": [
    "#put everything together in the final differential equation\n",
    "right = sol.args[1].subs(C1,C1_sol[0])\n",
    "\n",
    "final = sp.Eq(V,right)\n",
    "\n",
    "display(final)\n",
    "print(\"copy paste the content of the final term into a function and add numpy stuff\")\n",
    "print(final.args)"
   ]
  },
  {
   "cell_type": "code",
   "execution_count": 18,
   "id": "3053c0ca-5d17-4624-934c-6342202d9ff2",
   "metadata": {},
   "outputs": [
    {
     "data": {
      "text/plain": [
       "[<matplotlib.lines.Line2D at 0x7f598a7c7e20>]"
      ]
     },
     "execution_count": 18,
     "metadata": {},
     "output_type": "execute_result"
    },
    {
     "data": {
      "image/png": "[encoded data removed]",
      "text/plain": [
       "<Figure size 432x288 with 1 Axes>"
      ]
     },
     "metadata": {
      "needs_background": "light"
     },
     "output_type": "display_data"
    }
   ],
   "source": [
    "#Alright let's pray that this thing works\n",
    "def V(t,V0,Vinf,Tm):\n",
    "    return V0 + Vinf - Vinf*np.exp(-t/Tm)\n",
    "\n",
    "t = np.linspace(0,10,100)\n",
    "V0 = 1\n",
    "Vinf = 0.5\n",
    "Tm = 3\n",
    "\n",
    "plt.plot(t,V(t,V0,Vinf,Tm)) #plotting the values"
   ]
  },
  {
   "cell_type": "code",
   "execution_count": 19,
   "id": "e69c2140-c749-412c-a034-0457ed810ffe",
   "metadata": {},
   "outputs": [
    {
     "data": {
      "image/png": "[encoded data removed]",
      "text/plain": [
       "<Figure size 432x288 with 1 Axes>"
      ]
     },
     "metadata": {
      "needs_background": "light"
     },
     "output_type": "display_data"
    }
   ],
   "source": [
    "#alright interesting, what changes with different values of V0? Should all converge on Vinf I think.\n",
    "V0s = np.linspace(-1,1,10)\n",
    "\n",
    "for V0 in V0s:\n",
    "    plt.plot(t,V(t,V0,Vinf,Tm))\n",
    "\n",
    "#ok not entirely sure that this is the right thing, but conceptually, I could take an equation, set up a differential thing\n",
    "# plot values with it and that's really good.\n",
    "    "
   ]
  }
 ],
 "metadata": {
  "kernelspec": {
   "display_name": "Python 3 (ipykernel)",
   "language": "python",
   "name": "python3"
  },
  "language_info": {
   "codemirror_mode": {
    "name": "ipython",
    "version": 3
   },
   "file_extension": ".py",
   "mimetype": "text/x-python",
   "name": "python",
   "nbconvert_exporter": "python",
   "pygments_lexer": "ipython3",
   "version": "3.8.13"
  }
 },
 "nbformat": 4,
 "nbformat_minor": 5
}
