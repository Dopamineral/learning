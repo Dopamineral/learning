{
 "cells": [
  {
   "cell_type": "markdown",
   "id": "74e3a586-47da-4aa4-afaa-acf850fb53f8",
   "metadata": {},
   "source": [
    "# Chapter 8: Differential Equations\n",
    "\n",
    "## Theory\n",
    "- You can describe problems in 2 ways: \n",
    "    1. How does a specific thing develop over time? (\"normal equation\")\n",
    "    2. How does that development change over time? (\"differential equation\")\n",
    "- To go between the two, it's solving integrals, and deriving, because the change is expressed as a derivative.\n",
    "- **First order** derivatives, have first differential in their description\n",
    "    \n",
    "    "
   ]
  },
  {
   "cell_type": "code",
   "execution_count": 45,
   "id": "a5f90777-1a08-4235-aa07-70c181323e97",
   "metadata": {},
   "outputs": [],
   "source": [
    "import sympy as smp\n",
    "import matplotlib.pyplot as plt\n",
    "import numpy as np"
   ]
  },
  {
   "cell_type": "code",
   "execution_count": 14,
   "id": "03e7f53a-ca02-41a4-8c34-f3a97979e800",
   "metadata": {},
   "outputs": [],
   "source": [
    "x, y = smp.symbols('x, y')\n",
    "\n",
    "dxdy = smp.Derivative(x,y)\n",
    "g = smp.Function('f')(x)\n",
    "f = smp.Function('g')(y)"
   ]
  },
  {
   "cell_type": "code",
   "execution_count": 15,
   "id": "d383bd30-4e58-4467-a173-a35884451bdf",
   "metadata": {},
   "outputs": [
    {
     "data": {
      "text/latex": [
       "$\\displaystyle \\frac{d}{d y} x = f{\\left(x \\right)} g{\\left(y \\right)}$"
      ],
      "text/plain": [
       "Eq(Derivative(x, y), f(x)*g(y))"
      ]
     },
     "metadata": {},
     "output_type": "display_data"
    }
   ],
   "source": [
    "equation = smp.Eq(dxdy, f*g)\n",
    "display(equation)\n"
   ]
  },
  {
   "cell_type": "markdown",
   "id": "f96972d7-93a6-42eb-8062-13a3ad10753a",
   "metadata": {
    "tags": []
   },
   "source": [
    "This thing is a **seperable differential equation** because it can be separated into two different differential expressions"
   ]
  },
  {
   "cell_type": "code",
   "execution_count": 23,
   "id": "46adfc0f-3bd7-45a7-a444-30f62d76e777",
   "metadata": {},
   "outputs": [
    {
     "data": {
      "text/latex": [
       "$\\displaystyle \\frac{d}{d y} x = g{\\left(y \\right)}$"
      ],
      "text/plain": [
       "Eq(Derivative(x, y), g(y))"
      ]
     },
     "metadata": {},
     "output_type": "display_data"
    },
    {
     "data": {
      "text/latex": [
       "$\\displaystyle \\frac{d}{d y} x = f{\\left(x \\right)}$"
      ],
      "text/plain": [
       "Eq(Derivative(x, y), f(x))"
      ]
     },
     "metadata": {},
     "output_type": "display_data"
    }
   ],
   "source": [
    "dx = smp.Derivative(x)\n",
    "dy = smp.Derivative(y)\n",
    "\n",
    "display(smp.Eq(dxdy,f))\n",
    "display(smp.Eq(dxdy,g))"
   ]
  },
  {
   "cell_type": "markdown",
   "id": "dcfe0d34-41a4-456e-b4bf-2720730d176c",
   "metadata": {},
   "source": [
    "## Solving Diff equations.\n",
    "In biology you have a thing called a growth model."
   ]
  },
  {
   "cell_type": "code",
   "execution_count": 30,
   "id": "355fc733-7d78-44ec-8b19-b064c3c84068",
   "metadata": {},
   "outputs": [
    {
     "data": {
      "text/latex": [
       "$\\displaystyle \\frac{d}{d t} N{\\left(t \\right)} = 2 N{\\left(t \\right)}$"
      ],
      "text/plain": [
       "Eq(Derivative(N(t), t), 2*N(t))"
      ]
     },
     "metadata": {},
     "output_type": "display_data"
    }
   ],
   "source": [
    "t = smp.Symbol('t')\n",
    "N = smp.Function('N')(t)\n",
    "dNdt = smp.diff(N,t)\n",
    "r = smp.Symbol('r')\n",
    "r=2\n",
    "\n",
    "growth_model_eq = smp.Eq(dNdt,r*N)\n",
    "display(growth_model_eq)"
   ]
  },
  {
   "cell_type": "markdown",
   "id": "f1169dce-96c8-47af-8eb3-7fa82b1dc62d",
   "metadata": {},
   "source": [
    "Alright, handbook goes into all kinds of detail on how to solve this using integrals, but no. Let's put sympy to work and see what happens."
   ]
  },
  {
   "cell_type": "code",
   "execution_count": 33,
   "id": "0b956f9f-cb57-4792-a27d-8afa82a1af0b",
   "metadata": {},
   "outputs": [
    {
     "data": {
      "text/latex": [
       "$\\displaystyle N{\\left(t \\right)} = C_{1} e^{2 t}$"
      ],
      "text/plain": [
       "Eq(N(t), C1*exp(2*t))"
      ]
     },
     "execution_count": 33,
     "metadata": {},
     "output_type": "execute_result"
    }
   ],
   "source": [
    "growth_model_eq_solved = smp.dsolve(growth_model)\n",
    "growth_model_eq_solved"
   ]
  },
  {
   "cell_type": "markdown",
   "id": "5bba431a-d201-4987-9046-d340b28e1c45",
   "metadata": {},
   "source": [
    "And yep, this is exactly the solution! Awesome.\n",
    "I think beyond this point you have to define a custom function to do this calculation for you."
   ]
  },
  {
   "cell_type": "code",
   "execution_count": 48,
   "id": "0761f03b-f896-452b-86a8-c28b72b05b67",
   "metadata": {},
   "outputs": [
    {
     "data": {
      "text/plain": [
       "[<matplotlib.lines.Line2D at 0x7f87b9fe29a0>]"
      ]
     },
     "execution_count": 48,
     "metadata": {},
     "output_type": "execute_result"
    },
    {
     "data": {
      "image/png": "[encoded data removed]",
      "text/plain": [
       "<Figure size 432x288 with 1 Axes>"
      ]
     },
     "metadata": {
      "needs_background": "light"
     },
     "output_type": "display_data"
    }
   ],
   "source": [
    "def growth_model(t,N0):\n",
    "    return N0*np.exp(2*t)\n",
    "\n",
    "t = np.linspace(1,10,100)\n",
    "N0 = 20\n",
    "\n",
    "plt.plot(t,growth_model(t,N0))"
   ]
  },
  {
   "cell_type": "markdown",
   "id": "3e1a1b12-0cbc-45b5-a943-51f5b55a1fee",
   "metadata": {},
   "source": [
    "Next example: let's say the change of a cell volume happens according to $\\frac{dV}{dt} = \\sin{t}$"
   ]
  },
  {
   "cell_type": "code",
   "execution_count": 54,
   "id": "ecc2169e-9750-4c0d-a044-0e4d93848568",
   "metadata": {},
   "outputs": [
    {
     "data": {
      "text/latex": [
       "$\\displaystyle \\frac{d}{d t} V{\\left(t \\right)} = \\sin{\\left(t \\right)}$"
      ],
      "text/plain": [
       "Eq(Derivative(V(t), t), sin(t))"
      ]
     },
     "metadata": {},
     "output_type": "display_data"
    },
    {
     "name": "stdout",
     "output_type": "stream",
     "text": [
      "\n",
      "solution:\n"
     ]
    },
    {
     "data": {
      "text/latex": [
       "$\\displaystyle V{\\left(t \\right)} = C_{1} - \\cos{\\left(t \\right)}$"
      ],
      "text/plain": [
       "Eq(V(t), C1 - cos(t))"
      ]
     },
     "metadata": {},
     "output_type": "display_data"
    }
   ],
   "source": [
    "#solve the differential equation\n",
    "t = smp.Symbol('t')\n",
    "V = smp.Function('V')(t)\n",
    "\n",
    "dvdt = smp.diff(V,t)\n",
    "\n",
    "eq = smp.Eq(dvdt,smp.sin(t))\n",
    "display(eq)\n",
    "\n",
    "sol = smp.dsolve(eq)\n",
    "print()\n",
    "print(\"solution:\")\n",
    "\n",
    "display(sol)"
   ]
  },
  {
   "cell_type": "code",
   "execution_count": 60,
   "id": "33bcf8e6-e108-4de6-9d37-4ff4e616c1ae",
   "metadata": {},
   "outputs": [
    {
     "data": {
      "text/plain": [
       "[<matplotlib.lines.Line2D at 0x7f87b99a19d0>]"
      ]
     },
     "execution_count": 60,
     "metadata": {},
     "output_type": "execute_result"
    },
    {
     "data": {
      "image/png": "[encoded data removed]",
      "text/plain": [
       "<Figure size 432x288 with 1 Axes>"
      ]
     },
     "metadata": {
      "needs_background": "light"
     },
     "output_type": "display_data"
    }
   ],
   "source": [
    "def cell_size(V0,t):\n",
    "    return V0 - np.cos(t)\n",
    "\n",
    "V0 = 3\n",
    "t = np.linspace(1,10,100)\n",
    "\n",
    "plt.plot(t,cell_size(V0,t))"
   ]
  },
  {
   "cell_type": "markdown",
   "id": "bb36b46a-da34-4efc-8f7a-8f01b5fcbc81",
   "metadata": {},
   "source": [
    "### Restricted Growth model: Von Bertalanfy\n",
    "\n",
    "$\\large \\frac{dL}{dt} = k(A-L)$\n",
    "\n",
    "L = length of fish\n",
    "A = positive constant\n",
    "k = positive constant"
   ]
  },
  {
   "cell_type": "code",
   "execution_count": 70,
   "id": "3157858e-1dc2-4ab7-9b7a-6bf6905a92cc",
   "metadata": {},
   "outputs": [
    {
     "data": {
      "text/latex": [
       "$\\displaystyle \\frac{d}{d t} L{\\left(t \\right)} = k \\left(A - L{\\left(t \\right)}\\right)$"
      ],
      "text/plain": [
       "Eq(Derivative(L(t), t), k*(A - L(t)))"
      ]
     },
     "metadata": {},
     "output_type": "display_data"
    },
    {
     "name": "stdout",
     "output_type": "stream",
     "text": [
      "\n",
      "Solution:\n",
      "\n"
     ]
    },
    {
     "data": {
      "text/latex": [
       "$\\displaystyle L{\\left(t \\right)} = A + C_{1} e^{- k t}$"
      ],
      "text/plain": [
       "Eq(L(t), A + C1*exp(-k*t))"
      ]
     },
     "metadata": {},
     "output_type": "display_data"
    }
   ],
   "source": [
    "t = smp.Symbol('t')\n",
    "L0 = smp.Symbol('L0')\n",
    "L = smp.Function('L')(t)\n",
    "dLdt = smp.diff(L,t)\n",
    "k, A= smp.symbols('k A')\\\n",
    "\n",
    "eq = smp.Eq(dLdt , k*(A-L))\n",
    "display(eq)\n",
    "\n",
    "print()\n",
    "print(\"Solution:\")\n",
    "print()\n",
    "\n",
    "sol = smp.dsolve(eq)\n",
    "display(sol)"
   ]
  },
  {
   "cell_type": "markdown",
   "id": "7cbfb4bf-b502-4140-8bb1-5b0ac021b915",
   "metadata": {},
   "source": [
    "So I have the equation, now I want to extract the initial condition parameter.\n",
    "L0 = L(0) = A + C * exp(0)\n",
    "or! \n",
    "\n",
    "C = L0 - A\n",
    "\n",
    "$ \\large L(t) = A + (L0-A)e^{-kt} $\n",
    "\n",
    "Can we simplify this using sympy?"
   ]
  },
  {
   "cell_type": "code",
   "execution_count": 79,
   "id": "bf722933-4679-4a5d-8263-f983480679ef",
   "metadata": {},
   "outputs": [
    {
     "data": {
      "text/latex": [
       "$\\displaystyle L{\\left(t \\right)} = A + \\left(- A + L_{0}\\right) e^{- k t}$"
      ],
      "text/plain": [
       "Eq(L(t), A + (-A + L0)*exp(-k*t))"
      ]
     },
     "metadata": {},
     "output_type": "display_data"
    },
    {
     "name": "stdout",
     "output_type": "stream",
     "text": [
      "simplification\n"
     ]
    },
    {
     "data": {
      "text/latex": [
       "$\\displaystyle L{\\left(t \\right)} = \\left(A e^{k t} - A + L_{0}\\right) e^{- k t}$"
      ],
      "text/plain": [
       "Eq(L(t), (A*exp(k*t) - A + L0)*exp(-k*t))"
      ]
     },
     "metadata": {},
     "output_type": "display_data"
    }
   ],
   "source": [
    "eq = smp.Eq(L,A+(L0 - A)*smp.exp(-k*t))\n",
    "display(eq)\n",
    "print(\"simplification\")\n",
    "display(smp.simplify(eq))"
   ]
  },
  {
   "cell_type": "code",
   "execution_count": 96,
   "id": "b580bc97-3b50-4934-ab78-1d77b5c66209",
   "metadata": {},
   "outputs": [
    {
     "name": "stdout",
     "output_type": "stream",
     "text": [
      "5.0\n"
     ]
    },
    {
     "data": {
      "image/png": "[encoded data removed]",
      "text/plain": [
       "<Figure size 432x288 with 1 Axes>"
      ]
     },
     "metadata": {
      "needs_background": "light"
     },
     "output_type": "display_data"
    }
   ],
   "source": [
    "# Doesn't seem much simpler, but let's roll with it. \n",
    "t = np.linspace(0,10,100)\n",
    "A = 10\n",
    "k = 1\n",
    "L0 = 5\n",
    "\n",
    "\n",
    "def L(t,L0,k,A):\n",
    "    return (A*np.exp(k*t) - A + L0)*np.exp(-k*t)\n",
    "\n",
    "\n",
    "plt.plot(L(t,L0,k,A))\n",
    "print(L(0,L0,k,A))\n"
   ]
  },
  {
   "cell_type": "markdown",
   "id": "7c9929cc-fe5c-4273-823a-667daad5e8df",
   "metadata": {},
   "source": [
    "I wonder, is there a way to have sympy calculate L0 for you? Let's try in next example\n",
    "\n",
    "\n",
    "### Logistic Equation\n",
    "\n",
    "\n",
    "$\\large \\frac{dN}{dt} = rN(1-\\frac{N}{K})$\n",
    "\n",
    "r = positive thing\n",
    "k = positive thing\n",
    "\n",
    "This means that the growth of a population decreases linearly with population size"
   ]
  },
  {
   "cell_type": "code",
   "execution_count": 155,
   "id": "f7685d64-2393-4204-8d22-e29647633d64",
   "metadata": {},
   "outputs": [
    {
     "data": {
      "text/latex": [
       "$\\displaystyle \\frac{d}{d t} N{\\left(t \\right)} = r \\left(1 - \\frac{N{\\left(t \\right)}}{K}\\right) N{\\left(t \\right)}$"
      ],
      "text/plain": [
       "Eq(Derivative(N(t), t), r*(1 - N(t)/K)*N(t))"
      ]
     },
     "metadata": {},
     "output_type": "display_data"
    },
    {
     "name": "stdout",
     "output_type": "stream",
     "text": [
      "solution\n"
     ]
    },
    {
     "data": {
      "text/latex": [
       "$\\displaystyle N{\\left(t \\right)} = \\frac{K e^{C_{1} K + r t}}{e^{C_{1} K + r t} - 1}$"
      ],
      "text/plain": [
       "Eq(N(t), K*exp(C1*K + r*t)/(exp(C1*K + r*t) - 1))"
      ]
     },
     "metadata": {},
     "output_type": "display_data"
    },
    {
     "data": {
      "text/latex": [
       "$\\displaystyle C_{1} = \\frac{\\log{\\left(\\frac{n_{0}}{- K + n_{0}} \\right)}}{K}$"
      ],
      "text/plain": [
       "Eq(C1, log(n0/(-K + n0))/K)"
      ]
     },
     "metadata": {},
     "output_type": "display_data"
    },
    {
     "data": {
      "text/latex": [
       "$\\displaystyle \\frac{K n_{0} e^{r t}}{\\left(- K + n_{0}\\right) \\left(\\frac{n_{0} e^{r t}}{- K + n_{0}} - 1\\right)}$"
      ],
      "text/plain": [
       "K*n0*exp(r*t)/((-K + n0)*(n0*exp(r*t)/(-K + n0) - 1))"
      ]
     },
     "metadata": {},
     "output_type": "display_data"
    },
    {
     "name": "stdout",
     "output_type": "stream",
     "text": [
      "simplify it\n"
     ]
    },
    {
     "data": {
      "text/latex": [
       "$\\displaystyle \\frac{K n_{0} e^{r t}}{K + n_{0} e^{r t} - n_{0}}$"
      ],
      "text/plain": [
       "K*n0*exp(r*t)/(K + n0*exp(r*t) - n0)"
      ]
     },
     "metadata": {},
     "output_type": "display_data"
    }
   ],
   "source": [
    "t, r, K = smp.symbols('t r K')\n",
    "N = smp.Function('N')(t)\n",
    "\n",
    "eq = smp.Eq(smp.diff(N,t),r*N*(1-(N/K)))\n",
    "display(eq)\n",
    "\n",
    "sol = smp.dsolve(eq)\n",
    "print(\"solution\")\n",
    "display(sol)\n",
    "\n",
    "t0 = sol.args[1].subs({'t':0}) #Set t=0 for N(0)\n",
    "n0 = smp.symbols('n0')\n",
    "eq_init = smp.Eq(n0,t0)\n",
    "\n",
    "C1 = t0.args[2].args[0].args[0] # Do this to isolate C1\n",
    "\n",
    "t0_sol = smp.solve(eq_init,C1) #solve C1 for t=0\n",
    "\n",
    "display(smp.Eq(C1,t0_sol[0])) #show solution\n",
    "\n",
    "final = sol.args[1].subs(C1,t0_sol[0])\n",
    "\n",
    "display(final)\n",
    "print(\"simplify it\")\n",
    "display(final.simplify())\n"
   ]
  },
  {
   "cell_type": "markdown",
   "id": "732537d1-1782-4edf-a9d6-a2d87f453423",
   "metadata": {},
   "source": [
    "Baboom, very nice! \n",
    "\n",
    "This final thing we can simplify as follows:\n",
    "\n",
    "\n",
    "$\\large N(t) = \\frac{Kn_0e^{rt}}{K+n_0(e^{rt}-1)}$"
   ]
  },
  {
   "cell_type": "code",
   "execution_count": 195,
   "id": "f58d20d3-9c7a-45f8-a8fe-9a42fa08cb99",
   "metadata": {},
   "outputs": [
    {
     "data": {
      "image/png": "[encoded data removed]",
      "text/plain": [
       "<Figure size 432x288 with 1 Axes>"
      ]
     },
     "metadata": {
      "needs_background": "light"
     },
     "output_type": "display_data"
    }
   ],
   "source": [
    "# Let's implement this thing now\n",
    "\n",
    "t = np.linspace(0,5,100)\n",
    "K = 20\n",
    "r=1\n",
    "N0 = 10\n",
    "\n",
    "def logistic_growth(t,K,r,N0):\n",
    "    return (K*N0*np.exp(r*t))/(K+N0*(np.exp(r*t)-1))\n",
    "\n",
    "\n",
    "#investigate what happens when you vary all the variables.\n",
    "ks = [k for k in range(1,10)]\n",
    "rs = np.linspace(0,2,10)\n",
    "N0s = [N0 for N0 in range(0,10)]\n",
    "\n",
    "\n",
    "for k in ks:\n",
    "    plt.plot(t,logistic_growth(t,k,r,N0),'r')\n",
    "for r in rs: \n",
    "    plt.plot(t,logistic_growth(t,K,r,N0),'b')\n",
    "for N0 in N0s:\n",
    "    plt.plot(t,logistic_growth(t,K,r,N0),'g')\n",
    "    "
   ]
  },
  {
   "cell_type": "markdown",
   "id": "3601cb3f-4773-4505-8d6c-a59a886c4b10",
   "metadata": {},
   "source": [
    "### Homeostatis example\n",
    "\n",
    "Homeostasis can range from someone eating having a constant mass of nitrogen to someones mass of nitrogen matching the nitrogen content in the food.\n",
    "\n",
    "$\\large \\frac{dy}{dx} = \\frac{1}{\\theta} \\frac{y}{x}$\n",
    "\n",
    "\n",
    "x = nutrient content in consumer\n",
    "y = nutrient content in the food"
   ]
  },
  {
   "cell_type": "markdown",
   "id": "0cd7c89d-0622-48e5-afb1-57c0f82ddac1",
   "metadata": {},
   "source": [
    "# Exercises"
   ]
  },
  {
   "cell_type": "markdown",
   "id": "ba8efe02-dd6c-403b-81c5-49b5ac1b3fa6",
   "metadata": {},
   "source": [
    "1. Suppose amount of phosphorous in a lake follows following formula, what is value at t=10?\n",
    "$\\large \\frac{dP}{dt} = 3t+1$"
   ]
  },
  {
   "cell_type": "code",
   "execution_count": 216,
   "id": "0678035b-4fa1-4ffa-a73e-0c9e59fb8cc0",
   "metadata": {},
   "outputs": [
    {
     "data": {
      "text/latex": [
       "$\\displaystyle \\frac{d}{d t} P{\\left(t \\right)} = 3 t + 1$"
      ],
      "text/plain": [
       "Eq(Derivative(P(t), t), 3*t + 1)"
      ]
     },
     "metadata": {},
     "output_type": "display_data"
    },
    {
     "data": {
      "text/latex": [
       "$\\displaystyle P{\\left(t \\right)} = C_{1} + \\frac{3 t^{2}}{2} + t$"
      ],
      "text/plain": [
       "Eq(P(t), C1 + 3*t**2/2 + t)"
      ]
     },
     "metadata": {},
     "output_type": "display_data"
    },
    {
     "data": {
      "text/latex": [
       "$\\displaystyle C_{1}$"
      ],
      "text/plain": [
       "C1"
      ]
     },
     "metadata": {},
     "output_type": "display_data"
    },
    {
     "data": {
      "text/latex": [
       "$\\displaystyle p_{0} = C_{1}$"
      ],
      "text/plain": [
       "Eq(p0, C1)"
      ]
     },
     "metadata": {},
     "output_type": "display_data"
    },
    {
     "name": "stdout",
     "output_type": "stream",
     "text": [
      "amount of phosphor at t=10, with p0=0 is 160.0\n"
     ]
    },
    {
     "data": {
      "image/png": "[encoded data removed]",
      "text/plain": [
       "<Figure size 432x288 with 1 Axes>"
      ]
     },
     "metadata": {
      "needs_background": "light"
     },
     "output_type": "display_data"
    }
   ],
   "source": [
    "t = smp.Symbol('t')\n",
    "P = smp.Function('P')(t)\n",
    "dPdt = smp.diff(P,t)\n",
    "\n",
    "eq = smp.Eq(dPdt,3*t+1)\n",
    "display(eq)\n",
    "\n",
    "sol = smp.dsolve(eq)\n",
    "display(sol)\n",
    "\n",
    "#get situation for t=0\n",
    "t0 = sol.args[1].subs({'t':0})\n",
    "display(t0)\n",
    "p0 = smp.Symbol('p0')\n",
    "\n",
    "eq_init = smp.Eq(p0,t0)\n",
    "display(eq_init)\n",
    "\n",
    "t = np.linspace(0,10,100)\n",
    "p0 = 0\n",
    "def phosphor(t,p0):\n",
    "    return p0 + (3*t**2)/2 + t\n",
    "\n",
    "plt.plot(t,phosphor(t,p0))\n",
    "\n",
    "print(f'amount of phosphor at t=10, with p0=0 is {phosphor(10,0)}')"
   ]
  },
  {
   "cell_type": "markdown",
   "id": "7639d7d0-ead7-4cb4-ae9d-ed6b5902bf01",
   "metadata": {},
   "source": [
    "2. Per capita growth equation, that takes into account oscilation sin per capita growth rate.\n",
    "\n",
    "$\\large \\frac{dN}{dt} = 2(1+ sin(2 \\pi t))N(t)$\n",
    "\n",
    "Solve and plot population over time"
   ]
  },
  {
   "cell_type": "code",
   "execution_count": 242,
   "id": "ead60eb8-3b57-4450-89b4-4be582aa7b37",
   "metadata": {},
   "outputs": [
    {
     "data": {
      "text/latex": [
       "$\\displaystyle \\frac{d}{d t} N{\\left(t \\right)} = \\left(2 \\sin{\\left(2 \\pi t \\right)} + 2\\right) N{\\left(t \\right)}$"
      ],
      "text/plain": [
       "Eq(Derivative(N(t), t), (2*sin(2*pi*t) + 2)*N(t))"
      ]
     },
     "metadata": {},
     "output_type": "display_data"
    },
    {
     "data": {
      "text/latex": [
       "$\\displaystyle N{\\left(t \\right)} = C_{1} e^{2 t - \\frac{\\cos{\\left(2 \\pi t \\right)}}{\\pi}}$"
      ],
      "text/plain": [
       "Eq(N(t), C1*exp(2*t - cos(2*pi*t)/pi))"
      ]
     },
     "metadata": {},
     "output_type": "display_data"
    },
    {
     "data": {
      "text/latex": [
       "$\\displaystyle \\frac{C_{1}}{e^{\\frac{1}{\\pi}}}$"
      ],
      "text/plain": [
       "C1*exp(-1/pi)"
      ]
     },
     "metadata": {},
     "output_type": "display_data"
    },
    {
     "data": {
      "text/latex": [
       "$\\displaystyle n_{0} = \\frac{C_{1}}{e^{\\frac{1}{\\pi}}}$"
      ],
      "text/plain": [
       "Eq(n0, C1*exp(-1/pi))"
      ]
     },
     "metadata": {},
     "output_type": "display_data"
    },
    {
     "data": {
      "text/plain": [
       "[n0*exp(1/pi)]"
      ]
     },
     "metadata": {},
     "output_type": "display_data"
    },
    {
     "data": {
      "text/latex": [
       "$\\displaystyle n_{0} e^{\\frac{2 \\left(\\pi t + \\sin^{2}{\\left(\\pi t \\right)}\\right)}{\\pi}}$"
      ],
      "text/plain": [
       "n0*exp(2*(pi*t + sin(pi*t)**2)/pi)"
      ]
     },
     "metadata": {},
     "output_type": "display_data"
    },
    {
     "name": "stdout",
     "output_type": "stream",
     "text": [
      "(n0, exp(2*(pi*t + sin(pi*t)**2)/pi))\n"
     ]
    }
   ],
   "source": [
    "t = smp.symbols('t')\n",
    "N = smp.Function('N')(t)\n",
    "dNdt = smp.diff(N,t)\n",
    "\n",
    "eq = smp.Eq(dNdt,2*(1+smp.sin(2*smp.pi*t))*N)\n",
    "display(eq)\n",
    "\n",
    "sol = smp.dsolve(eq)\n",
    "display(sol)\n",
    "\n",
    "#Set state to t=0\n",
    "t0 = sol.args[1].subs(t,0)\n",
    "display(t0)\n",
    "n0 = smp.Symbol('n0')\n",
    "eq_init = smp.Eq(n0,t0)\n",
    "display(eq_init)\n",
    "\n",
    "# Extract C1\n",
    "C1 = t0.args[0]\n",
    "C1_sol = smp.solve(eq_init,C1)\n",
    "display(C1_sol)\n",
    "C1_sol[0]\n",
    "\n",
    "#Put C1 solution back into original solution\n",
    "test = sol.args[1].subs(C1,C1_sol[0])\n",
    "final = test.simplify()\n",
    "display(final)\n",
    "print(final.args)\n",
    "\n"
   ]
  },
  {
   "cell_type": "code",
   "execution_count": 267,
   "id": "8cc35543-15de-4f4f-8763-514bcc6b74cb",
   "metadata": {},
   "outputs": [
    {
     "name": "stdout",
     "output_type": "stream",
     "text": [
      "The population will have a value of 190 after 1.5 t\n"
     ]
    },
    {
     "data": {
      "image/png": "[encoded data removed]",
      "text/plain": [
       "<Figure size 432x288 with 1 Axes>"
      ]
     },
     "metadata": {
      "needs_background": "light"
     },
     "output_type": "display_data"
    }
   ],
   "source": [
    "t = np.linspace(0,2,100)\n",
    "n0 = 5\n",
    "\n",
    "def fancypopulation(t,n0):\n",
    "    return n0*np.exp(2*(np.pi*t + np.sin(np.pi*t)**2)/np.pi)\n",
    "\n",
    "y = fancypopulation(1.5,5)\n",
    "plt.plot(t,fancypopulation(t,n0))\n",
    "plt.axvline(1.5,linestyle='--',c='r')\n",
    "plt.axhline(y,linestyle='--',c='r')\n",
    "plt.xlabel(\"t - time\")\n",
    "plt.ylabel(\"population\")\n",
    "print(f'The population will have a value of {y:0.0f} after 1.5 t')"
   ]
  },
  {
   "cell_type": "code",
   "execution_count": null,
   "id": "e98f82e8-337c-4e3f-867c-2c83a3456031",
   "metadata": {},
   "outputs": [],
   "source": [
    "\n"
   ]
  }
 ],
 "metadata": {
  "kernelspec": {
   "display_name": "Python 3 (ipykernel)",
   "language": "python",
   "name": "python3"
  },
  "language_info": {
   "codemirror_mode": {
    "name": "ipython",
    "version": 3
   },
   "file_extension": ".py",
   "mimetype": "text/x-python",
   "name": "python",
   "nbconvert_exporter": "python",
   "pygments_lexer": "ipython3",
   "version": "3.8.13"
  }
 },
 "nbformat": 4,
 "nbformat_minor": 5
}
