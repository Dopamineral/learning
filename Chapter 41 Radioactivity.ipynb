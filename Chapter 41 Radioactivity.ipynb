{
 "cells": [
  {
   "cell_type": "markdown",
   "id": "6174a937-1e85-4424-b3d1-eb007b14cd2a",
   "metadata": {},
   "source": [
    "# Structure and properties of nucleus\n",
    "- protons and neutrons are in the core = **\"nucleons\"**\n",
    "- different cores = **\"nuclides\"**\n",
    "- Z = atom number, amount of protons\n",
    "- A = atom mass, protons + neutrons\n",
    "- Same protons but different mass (neutrons) - **\"isotopes\"**\n",
    "- **natural abundance** = percentage of isotopoes around. E.g. ${^{12}_{6}C}$ is 99% available and $^{13}_{6}C$ is only 1%\n",
    "- determining radius of a core is difficult because of wave-particle duality, but aproximations can be made\n",
    "- mass is expressed in unified mass unit `u`. Reference is ${^{12}_{6}C}$, which ways 12$u$\n",
    "- mass of atoms is often expressed in terms of energy: E=mc^2\n",
    "- electrons, protons and neutrons spin. The **spin-quantum number** `l` of a core is the vector sum of all spins.\n",
    "- Total core impuls moment is measured in **core magneton**\n"
   ]
  },
  {
   "cell_type": "code",
   "execution_count": 43,
   "id": "cf270ccb-c1c2-445c-a476-85e382e77846",
   "metadata": {},
   "outputs": [
    {
     "name": "stdout",
     "output_type": "stream",
     "text": [
      "biggest atom radius / smallest atom radius\n",
      "6.197154434741126\n"
     ]
    },
    {
     "data": {
      "text/plain": [
       "Text(11, 2.1805447113985676e-15, 'Hydrogen')"
      ]
     },
     "execution_count": 43,
     "metadata": {},
     "output_type": "execute_result"
    },
    {
     "data": {
      "image/png": "[encoded data removed]",
      "text/plain": [
       "<Figure size 432x288 with 1 Axes>"
      ]
     },
     "metadata": {
      "needs_background": "light"
     },
     "output_type": "display_data"
    }
   ],
   "source": [
    "import numpy as np\n",
    "\n",
    "electron_mass = 9.1094*10**(-31)\n",
    "electron_charge = -1.6*10**(-19)\n",
    "proton_mass = 1.67262*10**(-27)\n",
    "proton_charge = 1.6*10**(-19)\n",
    "neutron_mass = 1.67493*10**(-27)\n",
    "neutron_charge = 0\n",
    "\n",
    "u_mass = 1.6605*10**(-27) #kg\n",
    "u_energy = 931*10**(6) #eV electronvolt\n",
    "\n",
    "def atom_core_size(atom_number):\n",
    "    \"\"\"calculate atom core radius aproximation\"\"\"\n",
    "    return 1.2*10**(-15)*(atom_number)**(1/3)\n",
    "\n",
    "print(\"biggest atom radius / smallest atom radius\")\n",
    "print(atom_core_size(238) / atom_core_size(1)) # the largest atom Uranium (238) is only about 6 times the radius of the smallest atom due to quadratic scaling effects.\n",
    "\n",
    "h = 6.62607015*10**(-34)\n",
    "h_bar = h / 2*np.pi\n",
    "\n",
    "def core_impuls_moment(spin_number):\n",
    "    return np.sqrt(spin_number*(spin_number+1))*h_bar\n",
    "\n",
    "#Lets say out of curiousity I'm curious how the volume of an atom changes depending on its atomic number?\n",
    "def calculate_sphere_volume(radius):\n",
    "    return 4/3*np.pi*(radius**3)\n",
    "\n",
    "import matplotlib.pyplot as plt\n",
    "atomic_mass = np.linspace (1,300,300)\n",
    "\n",
    "plt.figure()\n",
    "plt.plot(atomic_mass, atom_core_size(atomic_mass))\n",
    "plt.xlabel(\"Atom Stuff Inside\")\n",
    "plt.ylabel(\"Atom Core Radius\")\n",
    "plt.axvline(238, linestyle='--',c='r')\n",
    "plt.axhline(atom_core_size(238), linestyle='-',c='r')\n",
    "plt.text(238+1,atom_core_size(238-50),'Uranium',c='r')\n",
    "\n",
    "plt.axvline(1, linestyle='--',c='b')\n",
    "plt.axhline(atom_core_size(1), linestyle='-',c='b')\n",
    "plt.text(1+10,atom_core_size(1+5),'Hydrogen',c='b')\n",
    "\n",
    "# And I just figured out that the volume of an atomi scales linearly with the atomic number lol."
   ]
  },
  {
   "cell_type": "markdown",
   "id": "40ca454b-b73b-4444-990e-53120bd9b230",
   "metadata": {},
   "source": [
    "# Radioactive Decay\n",
    "\n",
    "I'm skipping ahead some parts, because most of the theory was like the block above. Very very manageable. AND! Once you have them programmed you can easily start playing with the concepts and plot all kinds of things. \n",
    "\n",
    "Radioactive decay: $\\frac{dN}{dt} = \\lambda N dt$\n",
    "\n",
    "differential equation!\n"
   ]
  },
  {
   "cell_type": "code",
   "execution_count": 29,
   "id": "a566ec27-2a91-4553-8566-03e243b53ebe",
   "metadata": {},
   "outputs": [
    {
     "data": {
      "text/latex": [
       "$\\displaystyle \\frac{d}{d t} N{\\left(t \\right)} = \\lambda N{\\left(t \\right)}$"
      ],
      "text/plain": [
       "Eq(Derivative(N(t), t), \\lambda*N(t))"
      ]
     },
     "metadata": {},
     "output_type": "display_data"
    },
    {
     "name": "stdout",
     "output_type": "stream",
     "text": [
      "solved equation:\n"
     ]
    },
    {
     "data": {
      "text/latex": [
       "$\\displaystyle N{\\left(t \\right)} = C_{1} e^{\\lambda t}$"
      ],
      "text/plain": [
       "Eq(N(t), C1*exp(\\lambda*t))"
      ]
     },
     "metadata": {},
     "output_type": "display_data"
    },
    {
     "data": {
      "text/plain": [
       "[<matplotlib.lines.Line2D at 0x7f658ae4c520>]"
      ]
     },
     "execution_count": 29,
     "metadata": {},
     "output_type": "execute_result"
    },
    {
     "data": {
      "image/png": "[encoded data removed]",
      "text/plain": [
       "<Figure size 432x288 with 1 Axes>"
      ]
     },
     "metadata": {
      "needs_background": "light"
     },
     "output_type": "display_data"
    }
   ],
   "source": [
    "import sympy as sp\n",
    "\n",
    "t = sp.Symbol('t')\n",
    "N = sp.Function('N')(t)\n",
    "lmb = sp.Symbol(r'\\lambda')\n",
    "N_d = sp.diff(N,t)\n",
    "\n",
    "eq = sp.Eq(N_d,lmb*N)\n",
    "display(eq)\n",
    "\n",
    "print('solved equation:')\n",
    "sol = sp.dsolve(eq)\n",
    "display(sol)\n",
    "\n",
    "t0 = sol.args[1].subs(t,0)\n",
    "\n",
    "def radioactive_decay(t,N0,lmbda):\n",
    "    return N0*np.exp(-lmbda*t)\n",
    "\n",
    "t = np.linspace(0,10,100)\n",
    "lmbda = 2\n",
    "N0 = 100\n",
    "\n",
    "plt.plot(t,radioactive_decay(t,N0,lmbda))\n",
    "\n"
   ]
  }
 ],
 "metadata": {
  "kernelspec": {
   "display_name": "Python 3 (ipykernel)",
   "language": "python",
   "name": "python3"
  },
  "language_info": {
   "codemirror_mode": {
    "name": "ipython",
    "version": 3
   },
   "file_extension": ".py",
   "mimetype": "text/x-python",
   "name": "python",
   "nbconvert_exporter": "python",
   "pygments_lexer": "ipython3",
   "version": "3.8.13"
  }
 },
 "nbformat": 4,
 "nbformat_minor": 5
}
